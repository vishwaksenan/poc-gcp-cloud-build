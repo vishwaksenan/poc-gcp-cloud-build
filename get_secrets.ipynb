{
 "cells": [
  {
   "cell_type": "code",
   "execution_count": 2,
   "id": "a67ecab3-c223-4612-8b12-267860f9b157",
   "metadata": {
    "tags": []
   },
   "outputs": [],
   "source": [
    "from google.cloud import secretmanager\n",
    "import json\n",
    "\n",
    "def get_secret(project_id, secret_name, version=\"latest\"):\n",
    "    \"\"\"\n",
    "    Fetches a secret from Google Cloud Secret Manager.\n",
    "    \"\"\"\n",
    "    client = secretmanager.SecretManagerServiceClient()\n",
    "    secret_path = f\"projects/{project_id}/secrets/{secret_name}/versions/{version}\"\n",
    "\n",
    "    response = client.access_secret_version(name=secret_path)\n",
    "    secret_value = json.loads(response.payload.data.decode(\"UTF-8\"))\n",
    "    for filename, content in secret_value.items():\n",
    "        with open(filename, \"w\", encoding=\"utf-8\") as file:\n",
    "            file.write(content)\n",
    "\n",
    "# Example Usage\n",
    "project_id = \"playpen-3a83c0\"\n",
    "secret_name = \"project1-ca\"\n",
    "\n",
    "get_secret(project_id, secret_name)"
   ]
  },
  {
   "cell_type": "code",
   "execution_count": null,
   "id": "dd6d7d19-5c72-4289-80d6-00520a210d7c",
   "metadata": {},
   "outputs": [],
   "source": []
  }
 ],
 "metadata": {
  "environment": {
   "kernel": "conda-base-py",
   "name": "workbench-notebooks.m129",
   "type": "gcloud",
   "uri": "us-docker.pkg.dev/deeplearning-platform-release/gcr.io/workbench-notebooks:m129"
  },
  "kernelspec": {
   "display_name": "Python 3 (ipykernel) (Local)",
   "language": "python",
   "name": "conda-base-py"
  },
  "language_info": {
   "codemirror_mode": {
    "name": "ipython",
    "version": 3
   },
   "file_extension": ".py",
   "mimetype": "text/x-python",
   "name": "python",
   "nbconvert_exporter": "python",
   "pygments_lexer": "ipython3",
   "version": "3.10.16"
  }
 },
 "nbformat": 4,
 "nbformat_minor": 5
}
