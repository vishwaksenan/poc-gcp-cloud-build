{
 "cells": [
  {
   "cell_type": "code",
   "execution_count": 3,
   "id": "a67ecab3-c223-4612-8b12-267860f9b157",
   "metadata": {
    "tags": []
   },
   "outputs": [],
   "source": [
    "from google.cloud import secretmanager\n",
    "import json\n",
    "\n",
    "def get_secret(project_id, secret_name, version=\"latest\"):\n",
    "    \"\"\"\n",
    "    Fetches a secret from Google Cloud Secret Manager.\n",
    "    \"\"\"\n",
    "    client = secretmanager.SecretManagerServiceClient()\n",
    "    secret_path = f\"projects/{project_id}/secrets/{secret_name}/versions/{version}\"\n",
    "\n",
    "    response = client.access_secret_version(name=secret_path)\n",
    "    secret_value = json.loads(response.payload.data.decode(\"UTF-8\"))\n",
    "    for filename, content in secret_value.items():\n",
    "        with open(filename, \"w\", encoding=\"utf-8\") as file:\n",
    "            file.write(content)\n",
    "\n",
    "# Example Usage\n",
    "project_id = \"playpen-3a83c0\"\n",
    "secret_name = \"project1-ca\"\n",
    "\n",
    "get_secret(project_id, secret_name)"
   ]
  },
  {
   "cell_type": "code",
   "execution_count": 5,
   "id": "b53b4ffb-7377-41a6-8991-372ba81fda80",
   "metadata": {
    "tags": []
   },
   "outputs": [],
   "source": [
    "with open(\".gitignore\", \"w\") as file:\n",
    "    file.write(\"hello\")"
   ]
  },
  {
   "cell_type": "code",
   "execution_count": 6,
   "id": "bac929da-381f-4c0f-9c64-e624474e272b",
   "metadata": {
    "tags": []
   },
   "outputs": [
    {
     "name": "stdout",
     "output_type": "stream",
     "text": [
      "Dockerfile  app.py  cloudbuild.yaml    requirements.txt  tls.key\n",
      "README.md   ca.crt  get_secrets.ipynb  tls.crt\n"
     ]
    }
   ],
   "source": [
    "!ls"
   ]
  },
  {
   "cell_type": "code",
   "execution_count": null,
   "id": "fac32440-2102-466e-9512-c517a1e5c573",
   "metadata": {
    "tags": []
   },
   "outputs": [
    {
     "name": "stdout",
     "output_type": "stream",
     "text": [
      "\u001b[22A[7m^X\u001b[m Exit\u001b[6C\u001b[7m^R\u001b[m Read File \u001b[7m^\\\u001b[m Replace   \u001b[7m^U\u001b[m Paste     \u001b[7m^J\u001b[m Justify   \u001b[7m^_\u001b[m Go To Line                         \u001b[1;79H\u001b[m\u001b[22;16H\u001b[7m[ Welcome to nano.  For basic help, type Ctrl+G. ]\u001b[m"
     ]
    }
   ],
   "source": [
    "!nano"
   ]
  },
  {
   "cell_type": "code",
   "execution_count": 1,
   "id": "9f5cb005-f425-4f7e-87a6-9453a1ce5d52",
   "metadata": {
    "tags": []
   },
   "outputs": [],
   "source": [
    "!echo \"text\" > .gitignore"
   ]
  },
  {
   "cell_type": "code",
   "execution_count": 2,
   "id": "c0a01bb4-4c15-4d34-8aa3-38f038858614",
   "metadata": {
    "tags": []
   },
   "outputs": [
    {
     "name": "stdout",
     "output_type": "stream",
     "text": [
      ".git\t\t    Dockerfile\tca.crt\t\t   requirements.txt\n",
      ".gitignore\t    README.md\tcloudbuild.yaml    tls.crt\n",
      ".ipynb_checkpoints  app.py\tget_secrets.ipynb  tls.key\n"
     ]
    }
   ],
   "source": [
    "!ls -A"
   ]
  },
  {
   "cell_type": "code",
   "execution_count": 7,
   "id": "94ec8d58-04d7-4ba6-a5d4-95bec7a96637",
   "metadata": {
    "tags": []
   },
   "outputs": [],
   "source": [
    "!printf \"tls.key\\ntls.crt\\nca.crt\\n*.log\\n*.py\\n.ipynb_checkpoint\" > .gitignore"
   ]
  },
  {
   "cell_type": "code",
   "execution_count": 8,
   "id": "6eb1f7ae-8f9a-4745-add4-42f14414cd29",
   "metadata": {
    "tags": []
   },
   "outputs": [
    {
     "name": "stdout",
     "output_type": "stream",
     "text": [
      "tls.key\n",
      "tls.crt\n",
      "ca.crt\n",
      "*.log\n",
      "*.py"
     ]
    }
   ],
   "source": [
    "!cat .gitignore"
   ]
  },
  {
   "cell_type": "code",
   "execution_count": 9,
   "id": "1b2fd5ab-f6aa-4550-89f5-e3aa5944fdf2",
   "metadata": {
    "tags": []
   },
   "outputs": [
    {
     "name": "stdout",
     "output_type": "stream",
     "text": [
      "On branch main\n",
      "Your branch is up to date with 'origin/main'.\n",
      "\n",
      "Changes not staged for commit:\n",
      "  (use \"git add/rm <file>...\" to update what will be committed)\n",
      "  (use \"git restore <file>...\" to discard changes in working directory)\n",
      "\t\u001b[31mmodified:   .gitignore\u001b[m\n",
      "\t\u001b[31mmodified:   cloudbuild.yaml\u001b[m\n",
      "\t\u001b[31mdeleted:    untitled.txt\u001b[m\n",
      "\n",
      "Untracked files:\n",
      "  (use \"git add <file>...\" to include in what will be committed)\n",
      "\t\u001b[31m.ipynb_checkpoints/\u001b[m\n",
      "\t\u001b[31mget_secrets.ipynb\u001b[m\n",
      "\n",
      "no changes added to commit (use \"git add\" and/or \"git commit -a\")\n"
     ]
    }
   ],
   "source": [
    "!git status"
   ]
  },
  {
   "cell_type": "code",
   "execution_count": null,
   "id": "dd6d7d19-5c72-4289-80d6-00520a210d7c",
   "metadata": {},
   "outputs": [],
   "source": []
  }
 ],
 "metadata": {
  "environment": {
   "kernel": "conda-base-py",
   "name": "workbench-notebooks.m129",
   "type": "gcloud",
   "uri": "us-docker.pkg.dev/deeplearning-platform-release/gcr.io/workbench-notebooks:m129"
  },
  "kernelspec": {
   "display_name": "Python 3 (ipykernel)",
   "language": "python",
   "name": "conda-base-py"
  },
  "language_info": {
   "codemirror_mode": {
    "name": "ipython",
    "version": 3
   },
   "file_extension": ".py",
   "mimetype": "text/x-python",
   "name": "python",
   "nbconvert_exporter": "python",
   "pygments_lexer": "ipython3",
   "version": "3.10.16"
  }
 },
 "nbformat": 4,
 "nbformat_minor": 5
}
